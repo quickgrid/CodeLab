{
  "nbformat": 4,
  "nbformat_minor": 0,
  "metadata": {
    "kernelspec": {
      "display_name": "Python [conda env:dl-minicourse] *",
      "language": "python",
      "name": "conda-env-dl-minicourse-py"
    },
    "language_info": {
      "codemirror_mode": {
        "name": "ipython",
        "version": 3
      },
      "file_extension": ".py",
      "mimetype": "text/x-python",
      "name": "python",
      "nbconvert_exporter": "python",
      "pygments_lexer": "ipython3",
      "version": "3.7.3"
    },
    "colab": {
      "name": "01-tensor_tutorial.ipynb",
      "provenance": [],
      "toc_visible": true,
      "include_colab_link": true
    }
  },
  "cells": [
    {
      "cell_type": "markdown",
      "metadata": {
        "id": "view-in-github",
        "colab_type": "text"
      },
      "source": [
        "<a href=\"https://colab.research.google.com/github/quickgrid/CodeLab/blob/master/courses/Atcold__pytorch-Deep-Learning/01_tensor_tutorial.ipynb\" target=\"_parent\"><img src=\"https://colab.research.google.com/assets/colab-badge.svg\" alt=\"Open In Colab\"/></a>"
      ]
    },
    {
      "cell_type": "markdown",
      "metadata": {
        "id": "abpmcb6L-oa2"
      },
      "source": [
        "\n",
        "# What is PyTorch?\n",
        "\n",
        "It’s a Python based scientific computing package targeted at two sets of audiences:\n",
        "\n",
        "-  Tensorial library that uses the power of GPUs\n",
        "-  A deep learning research platform that provides maximum flexibility and speed\n",
        "\n",
        "## Import the library"
      ]
    },
    {
      "cell_type": "code",
      "metadata": {
        "id": "OsbmMc35-oa9"
      },
      "source": [
        "import torch  # <Ctrl> / <Shift> + <Return>"
      ],
      "execution_count": 1,
      "outputs": []
    },
    {
      "cell_type": "markdown",
      "metadata": {
        "id": "no0hIBLe-oa-"
      },
      "source": [
        "## Getting help in Jupyter"
      ]
    },
    {
      "cell_type": "markdown",
      "metadata": {
        "id": "O1vveibXAEGH"
      },
      "source": [
        "For autocomplete"
      ]
    },
    {
      "cell_type": "code",
      "metadata": {
        "id": "JKAA_Thb-oa-",
        "colab": {
          "base_uri": "https://localhost:8080/",
          "height": 162
        },
        "outputId": "c76379f8-ffa2-4833-dd25-9702f8a81b5a"
      },
      "source": [
        "torch.sq  # <Tab>"
      ],
      "execution_count": 2,
      "outputs": [
        {
          "output_type": "error",
          "ename": "AttributeError",
          "evalue": "ignored",
          "traceback": [
            "\u001b[0;31m---------------------------------------------------------------------------\u001b[0m",
            "\u001b[0;31mAttributeError\u001b[0m                            Traceback (most recent call last)",
            "\u001b[0;32m<ipython-input-2-eef6cd7355b7>\u001b[0m in \u001b[0;36m<module>\u001b[0;34m()\u001b[0m\n\u001b[0;32m----> 1\u001b[0;31m \u001b[0mtorch\u001b[0m\u001b[0;34m.\u001b[0m\u001b[0msq\u001b[0m  \u001b[0;31m# <Tab>\u001b[0m\u001b[0;34m\u001b[0m\u001b[0;34m\u001b[0m\u001b[0m\n\u001b[0m",
            "\u001b[0;31mAttributeError\u001b[0m: module 'torch' has no attribute 'sq'"
          ]
        }
      ]
    },
    {
      "cell_type": "code",
      "metadata": {
        "id": "Zveh7xAY-oa-"
      },
      "source": [
        "# What about all `*Tensor`s?\n",
        "# Press <esc> to get out of help\n",
        "torch.*Tensor?"
      ],
      "execution_count": 3,
      "outputs": []
    },
    {
      "cell_type": "code",
      "metadata": {
        "id": "tiZrll-w-oa_",
        "colab": {
          "base_uri": "https://localhost:8080/"
        },
        "outputId": "5d0dcf70-23f0-42b5-b1d6-32249aa5f15c"
      },
      "source": [
        "torch.nn.Module()  # <Shift>+<Tab>"
      ],
      "execution_count": 5,
      "outputs": [
        {
          "output_type": "execute_result",
          "data": {
            "text/plain": [
              "Module()"
            ]
          },
          "metadata": {
            "tags": []
          },
          "execution_count": 5
        }
      ]
    },
    {
      "cell_type": "code",
      "metadata": {
        "id": "U0IkdNzT-oa_"
      },
      "source": [
        "# Annotate your functions / classes!\n",
        "torch.nn.Module?"
      ],
      "execution_count": 6,
      "outputs": []
    },
    {
      "cell_type": "code",
      "metadata": {
        "id": "uQN5THZ6-oa_"
      },
      "source": [
        "torch.nn.Module??"
      ],
      "execution_count": 7,
      "outputs": []
    },
    {
      "cell_type": "markdown",
      "metadata": {
        "id": "nfnoKVD7-obA"
      },
      "source": [
        "## Dropping to Bash: magic!"
      ]
    },
    {
      "cell_type": "code",
      "metadata": {
        "scrolled": true,
        "id": "mZXakhrp-obA",
        "colab": {
          "base_uri": "https://localhost:8080/"
        },
        "outputId": "9a41d0d8-ca3e-47b4-ffdf-360f8d3c6d03"
      },
      "source": [
        "# List all the files in the current directory\n",
        "!ls -lh"
      ],
      "execution_count": 8,
      "outputs": [
        {
          "output_type": "stream",
          "text": [
            "total 4.0K\n",
            "drwxr-xr-x 1 root root 4.0K Dec  2 22:04 sample_data\n"
          ],
          "name": "stdout"
        }
      ]
    },
    {
      "cell_type": "code",
      "metadata": {
        "colab": {
          "base_uri": "https://localhost:8080/"
        },
        "id": "IoGlVmWmBLaA",
        "outputId": "1fd3b302-3577-4e2a-fc46-2adec2d57767"
      },
      "source": [
        "!ls"
      ],
      "execution_count": 10,
      "outputs": [
        {
          "output_type": "stream",
          "text": [
            "sample_data\n"
          ],
          "name": "stdout"
        }
      ]
    },
    {
      "cell_type": "markdown",
      "metadata": {
        "id": "E3EG8kg1BfM2"
      },
      "source": [
        "Get files with dot extensions"
      ]
    },
    {
      "cell_type": "code",
      "metadata": {
        "id": "oVEWGOkW-obB",
        "colab": {
          "base_uri": "https://localhost:8080/"
        },
        "outputId": "6aeec355-ed63-4bd9-9e95-a37f72339b5f"
      },
      "source": [
        "%%bash\n",
        "# List all the files but with cleaner outputs for readability\n",
        "for f in $(ls *.*); do\n",
        "    echo $(wc -l $f)\n",
        "done"
      ],
      "execution_count": 13,
      "outputs": [
        {
          "output_type": "stream",
          "text": [
            "ls: cannot access '*.*': No such file or directory\n"
          ],
          "name": "stderr"
        }
      ]
    },
    {
      "cell_type": "code",
      "metadata": {
        "id": "hpz1dFdA-obB"
      },
      "source": [
        "# Getting some general help\n",
        "%magic"
      ],
      "execution_count": 12,
      "outputs": []
    },
    {
      "cell_type": "markdown",
      "metadata": {
        "id": "9eKSoraQ-obB"
      },
      "source": [
        "## Python native data types\n",
        "\n",
        "Python has many native datatypes. Here are the important ones:\n",
        "\n",
        " - **Booleans** are either `True` or `False`.\n",
        " - **Numbers** can be integers (1 and 2), floats (1.1 and 1.2), fractions (1/2 and 2/3), or even complex numbers.\n",
        " - **Strings** are sequences of Unicode characters, e.g. an html document.\n",
        " - **Lists** are ordered sequences of values.\n",
        " - **Tuples** are ordered, immutable sequences of values.\n",
        " - **Sets** are unordered bags of values.\n",
        " - **Dictionaries** are unordered bags of key-value pairs.\n",
        " \n",
        "See [here](http://www.diveintopython3.net/native-datatypes.html) for a complete overview.\n",
        "\n",
        "### More resources\n",
        "\n",
        " 1. Brief Python introduction [here](https://learnxinyminutes.com/docs/python3/).\n",
        " 2. Full Python tutorial [here](https://docs.python.org/3/tutorial/).\n",
        " 3. A Whirlwind Tour of Python [here](https://github.com/jakevdp/WhirlwindTourOfPython).\n",
        " 4. Python Data Science Handbook [here](https://github.com/jakevdp/PythonDataScienceHandbook)."
      ]
    },
    {
      "cell_type": "markdown",
      "metadata": {
        "id": "nK7PF0C7-obC"
      },
      "source": [
        "## Torch!"
      ]
    },
    {
      "cell_type": "code",
      "metadata": {
        "id": "8GnoW9JA-obC",
        "colab": {
          "base_uri": "https://localhost:8080/"
        },
        "outputId": "18a60d92-dcfc-4456-a471-cadf9876a1af"
      },
      "source": [
        "# Generate a tensor of size 2x3x4\n",
        "t = torch.Tensor(2, 3, 4)\n",
        "type(t)"
      ],
      "execution_count": 14,
      "outputs": [
        {
          "output_type": "execute_result",
          "data": {
            "text/plain": [
              "torch.Tensor"
            ]
          },
          "metadata": {
            "tags": []
          },
          "execution_count": 14
        }
      ]
    },
    {
      "cell_type": "code",
      "metadata": {
        "id": "hgLqisI9-obC",
        "colab": {
          "base_uri": "https://localhost:8080/"
        },
        "outputId": "2144114b-9806-4aa9-f5e5-9da3e63b994a"
      },
      "source": [
        "# Get the size of the tensor\n",
        "t.size()"
      ],
      "execution_count": 15,
      "outputs": [
        {
          "output_type": "execute_result",
          "data": {
            "text/plain": [
              "torch.Size([2, 3, 4])"
            ]
          },
          "metadata": {
            "tags": []
          },
          "execution_count": 15
        }
      ]
    },
    {
      "cell_type": "code",
      "metadata": {
        "id": "mKgoO2ZR-obD",
        "colab": {
          "base_uri": "https://localhost:8080/"
        },
        "outputId": "afe268ba-44d8-450b-a209-e32b9ebca60d"
      },
      "source": [
        "# t.size() is a classic tuple =>\n",
        "print('t size:', ' \\u00D7 '.join(map(str, t.size())))"
      ],
      "execution_count": 16,
      "outputs": [
        {
          "output_type": "stream",
          "text": [
            "t size: 2 × 3 × 4\n"
          ],
          "name": "stdout"
        }
      ]
    },
    {
      "cell_type": "code",
      "metadata": {
        "id": "13PsU7h3-obD",
        "colab": {
          "base_uri": "https://localhost:8080/"
        },
        "outputId": "f63eb7a2-d009-4dd4-8f5c-d6db214a8bf2"
      },
      "source": [
        "# prints dimensional space and sub-dimensions\n",
        "print(f'point in a {t.numel()} dimensional space')\n",
        "print(f'organised in {t.dim()} sub-dimensions')"
      ],
      "execution_count": 17,
      "outputs": [
        {
          "output_type": "stream",
          "text": [
            "point in a 24 dimensional space\n",
            "organised in 3 sub-dimensions\n"
          ],
          "name": "stdout"
        }
      ]
    },
    {
      "cell_type": "code",
      "metadata": {
        "id": "5yFG7wzN-obD",
        "colab": {
          "base_uri": "https://localhost:8080/"
        },
        "outputId": "9330b00a-ba25-43b2-aa61-4efc2393ad92"
      },
      "source": [
        "t"
      ],
      "execution_count": 21,
      "outputs": [
        {
          "output_type": "execute_result",
          "data": {
            "text/plain": [
              "tensor([[[3.2781e-35, 0.0000e+00, 7.0065e-44, 6.7262e-44],\n",
              "         [6.3058e-44, 6.8664e-44, 7.0065e-44, 6.3058e-44],\n",
              "         [6.8664e-44, 7.7071e-44, 1.1771e-43, 6.7262e-44]],\n",
              "\n",
              "        [[7.9874e-44, 8.1275e-44, 7.1466e-44, 7.1466e-44],\n",
              "         [8.1275e-44, 7.0065e-44, 7.2868e-44, 6.4460e-44],\n",
              "         [7.1466e-44, 6.8664e-44, 7.1466e-44, 7.7071e-44]]])"
            ]
          },
          "metadata": {
            "tags": []
          },
          "execution_count": 21
        }
      ]
    },
    {
      "cell_type": "code",
      "metadata": {
        "id": "6dAveU5h-obD",
        "colab": {
          "base_uri": "https://localhost:8080/"
        },
        "outputId": "6119438b-67a8-4535-9d33-0f66d942b992"
      },
      "source": [
        "# Mind the underscore!\n",
        "# Any operation that mutates a tensor in-place is post-fixed with an _.\n",
        "# For example: x.copy_(y), x.t_(), x.random_(n) will change x.\n",
        "t.random_(10)"
      ],
      "execution_count": 22,
      "outputs": [
        {
          "output_type": "execute_result",
          "data": {
            "text/plain": [
              "tensor([[[0., 7., 6., 0.],\n",
              "         [1., 3., 7., 3.],\n",
              "         [4., 0., 2., 2.]],\n",
              "\n",
              "        [[6., 4., 5., 7.],\n",
              "         [9., 2., 4., 5.],\n",
              "         [5., 7., 7., 6.]]])"
            ]
          },
          "metadata": {
            "tags": []
          },
          "execution_count": 22
        }
      ]
    },
    {
      "cell_type": "code",
      "metadata": {
        "id": "nEt8bG_v-obD",
        "colab": {
          "base_uri": "https://localhost:8080/"
        },
        "outputId": "835900dd-0481-4bb1-e2de-48c14b3661f9"
      },
      "source": [
        "t"
      ],
      "execution_count": 23,
      "outputs": [
        {
          "output_type": "execute_result",
          "data": {
            "text/plain": [
              "tensor([[[0., 7., 6., 0.],\n",
              "         [1., 3., 7., 3.],\n",
              "         [4., 0., 2., 2.]],\n",
              "\n",
              "        [[6., 4., 5., 7.],\n",
              "         [9., 2., 4., 5.],\n",
              "         [5., 7., 7., 6.]]])"
            ]
          },
          "metadata": {
            "tags": []
          },
          "execution_count": 23
        }
      ]
    },
    {
      "cell_type": "code",
      "metadata": {
        "id": "Y_WiduNM-obE",
        "colab": {
          "base_uri": "https://localhost:8080/"
        },
        "outputId": "d76aea3c-a8ea-4763-d7a0-bf6bdf26b91b"
      },
      "source": [
        "# This resizes the tensor permanently \n",
        "r = torch.Tensor(t)\n",
        "r.resize_(3, 8)\n",
        "r"
      ],
      "execution_count": 24,
      "outputs": [
        {
          "output_type": "execute_result",
          "data": {
            "text/plain": [
              "tensor([[0., 7., 6., 0., 1., 3., 7., 3.],\n",
              "        [4., 0., 2., 2., 6., 4., 5., 7.],\n",
              "        [9., 2., 4., 5., 5., 7., 7., 6.]])"
            ]
          },
          "metadata": {
            "tags": []
          },
          "execution_count": 24
        }
      ]
    },
    {
      "cell_type": "code",
      "metadata": {
        "id": "6kD79gP_-obE",
        "colab": {
          "base_uri": "https://localhost:8080/"
        },
        "outputId": "d3a39ec6-b9a5-4e8e-b47a-064299988108"
      },
      "source": [
        "# As you can see zero_ would replace r with 0's which was originally filled with integers\n",
        "r.zero_()"
      ],
      "execution_count": 25,
      "outputs": [
        {
          "output_type": "execute_result",
          "data": {
            "text/plain": [
              "tensor([[0., 0., 0., 0., 0., 0., 0., 0.],\n",
              "        [0., 0., 0., 0., 0., 0., 0., 0.],\n",
              "        [0., 0., 0., 0., 0., 0., 0., 0.]])"
            ]
          },
          "metadata": {
            "tags": []
          },
          "execution_count": 25
        }
      ]
    },
    {
      "cell_type": "code",
      "metadata": {
        "id": "InJjkIph-obE",
        "colab": {
          "base_uri": "https://localhost:8080/"
        },
        "outputId": "4db5e36b-affb-4b6b-defa-4fbed992b00a"
      },
      "source": [
        "t"
      ],
      "execution_count": 26,
      "outputs": [
        {
          "output_type": "execute_result",
          "data": {
            "text/plain": [
              "tensor([[[0., 0., 0., 0.],\n",
              "         [0., 0., 0., 0.],\n",
              "         [0., 0., 0., 0.]],\n",
              "\n",
              "        [[0., 0., 0., 0.],\n",
              "         [0., 0., 0., 0.],\n",
              "         [0., 0., 0., 0.]]])"
            ]
          },
          "metadata": {
            "tags": []
          },
          "execution_count": 26
        }
      ]
    },
    {
      "cell_type": "code",
      "metadata": {
        "id": "r9j2dsel-obE"
      },
      "source": [
        "# This *is* important, sigh...\n",
        "s = r.clone()"
      ],
      "execution_count": 27,
      "outputs": []
    },
    {
      "cell_type": "code",
      "metadata": {
        "id": "sO8YPEUF-obE",
        "colab": {
          "base_uri": "https://localhost:8080/"
        },
        "outputId": "aaa15e6c-0f51-423f-e13f-941cacc6c916"
      },
      "source": [
        "# In-place fill of 1's\n",
        "s.fill_(1)\n",
        "s"
      ],
      "execution_count": 28,
      "outputs": [
        {
          "output_type": "execute_result",
          "data": {
            "text/plain": [
              "tensor([[1., 1., 1., 1., 1., 1., 1., 1.],\n",
              "        [1., 1., 1., 1., 1., 1., 1., 1.],\n",
              "        [1., 1., 1., 1., 1., 1., 1., 1.]])"
            ]
          },
          "metadata": {
            "tags": []
          },
          "execution_count": 28
        }
      ]
    },
    {
      "cell_type": "code",
      "metadata": {
        "id": "wxozxZV_-obF",
        "colab": {
          "base_uri": "https://localhost:8080/"
        },
        "outputId": "4ad2e2c7-2a60-4ee2-c355-7bff0aa87ecb"
      },
      "source": [
        "# Because we cloned r, even though we did an in-place operation, this doesn't affect r\n",
        "r"
      ],
      "execution_count": 29,
      "outputs": [
        {
          "output_type": "execute_result",
          "data": {
            "text/plain": [
              "tensor([[0., 0., 0., 0., 0., 0., 0., 0.],\n",
              "        [0., 0., 0., 0., 0., 0., 0., 0.],\n",
              "        [0., 0., 0., 0., 0., 0., 0., 0.]])"
            ]
          },
          "metadata": {
            "tags": []
          },
          "execution_count": 29
        }
      ]
    },
    {
      "cell_type": "markdown",
      "metadata": {
        "id": "OnT7vkq7-obF"
      },
      "source": [
        "## Vectors (1D Tensors)"
      ]
    },
    {
      "cell_type": "code",
      "metadata": {
        "id": "jD6rA-rH-obF",
        "colab": {
          "base_uri": "https://localhost:8080/"
        },
        "outputId": "d9559bf2-c2fa-4f1a-9497-9100ea611d5d"
      },
      "source": [
        "# Creates a 1D tensor of integers 1 to 4\n",
        "v = torch.Tensor([1, 2, 3, 4])\n",
        "v"
      ],
      "execution_count": 30,
      "outputs": [
        {
          "output_type": "execute_result",
          "data": {
            "text/plain": [
              "tensor([1., 2., 3., 4.])"
            ]
          },
          "metadata": {
            "tags": []
          },
          "execution_count": 30
        }
      ]
    },
    {
      "cell_type": "code",
      "metadata": {
        "id": "JOrCAeE7-obF",
        "colab": {
          "base_uri": "https://localhost:8080/"
        },
        "outputId": "25c9dcfa-4890-45df-bcb0-907a452152e4"
      },
      "source": [
        "# Print number of dimensions (1D) and size of tensor\n",
        "print(f'dim: {v.dim()}, size: {v.size()[0]}')"
      ],
      "execution_count": 33,
      "outputs": [
        {
          "output_type": "stream",
          "text": [
            "dim: 1, size: 4\n"
          ],
          "name": "stdout"
        }
      ]
    },
    {
      "cell_type": "code",
      "metadata": {
        "id": "EO_zWRay-obF",
        "colab": {
          "base_uri": "https://localhost:8080/"
        },
        "outputId": "35feb59f-967a-43f5-c80d-1ef7cee7052f"
      },
      "source": [
        "w = torch.Tensor([1, 0, 2, 0])\n",
        "w"
      ],
      "execution_count": 34,
      "outputs": [
        {
          "output_type": "execute_result",
          "data": {
            "text/plain": [
              "tensor([1., 0., 2., 0.])"
            ]
          },
          "metadata": {
            "tags": []
          },
          "execution_count": 34
        }
      ]
    },
    {
      "cell_type": "code",
      "metadata": {
        "id": "PcWBqiin-obF",
        "colab": {
          "base_uri": "https://localhost:8080/"
        },
        "outputId": "b5ce7db5-2490-4761-d6f8-7a83e8af28ec"
      },
      "source": [
        "# Element-wise multiplication\n",
        "v * w"
      ],
      "execution_count": 35,
      "outputs": [
        {
          "output_type": "execute_result",
          "data": {
            "text/plain": [
              "tensor([1., 0., 6., 0.])"
            ]
          },
          "metadata": {
            "tags": []
          },
          "execution_count": 35
        }
      ]
    },
    {
      "cell_type": "code",
      "metadata": {
        "id": "H37dGRU0-obG",
        "colab": {
          "base_uri": "https://localhost:8080/"
        },
        "outputId": "8a18b743-f0ec-4893-f3b2-11b9fa78a7b2"
      },
      "source": [
        "# Scalar product: 1*1 + 2*0 + 3*2 + 4*0\n",
        "v @ w"
      ],
      "execution_count": 36,
      "outputs": [
        {
          "output_type": "execute_result",
          "data": {
            "text/plain": [
              "tensor(7.)"
            ]
          },
          "metadata": {
            "tags": []
          },
          "execution_count": 36
        }
      ]
    },
    {
      "cell_type": "code",
      "metadata": {
        "id": "Ndwqbbt2-obG",
        "colab": {
          "base_uri": "https://localhost:8080/"
        },
        "outputId": "4217208d-4af3-48ce-ce21-2689ef8ed1bb"
      },
      "source": [
        "# In-place replacement of random number from 0 to 10\n",
        "x = torch.Tensor(5).random_(10)\n",
        "x"
      ],
      "execution_count": 37,
      "outputs": [
        {
          "output_type": "execute_result",
          "data": {
            "text/plain": [
              "tensor([7., 4., 6., 8., 2.])"
            ]
          },
          "metadata": {
            "tags": []
          },
          "execution_count": 37
        }
      ]
    },
    {
      "cell_type": "code",
      "metadata": {
        "id": "bOYKnyrs-obG",
        "colab": {
          "base_uri": "https://localhost:8080/"
        },
        "outputId": "241fd61c-ae0b-454c-cc33-9df54121162e"
      },
      "source": [
        "print(f'first: {x[0]}, last: {x[-1]}')"
      ],
      "execution_count": 38,
      "outputs": [
        {
          "output_type": "stream",
          "text": [
            "first: 7.0, last: 2.0\n"
          ],
          "name": "stdout"
        }
      ]
    },
    {
      "cell_type": "code",
      "metadata": {
        "id": "vHMBeSCT-obG",
        "colab": {
          "base_uri": "https://localhost:8080/"
        },
        "outputId": "2ea1ccc6-3258-446b-d3b1-b890926745c5"
      },
      "source": [
        "# Extract sub-Tensor [from:to)\n",
        "x[1:2 + 1]"
      ],
      "execution_count": 39,
      "outputs": [
        {
          "output_type": "execute_result",
          "data": {
            "text/plain": [
              "tensor([4., 6.])"
            ]
          },
          "metadata": {
            "tags": []
          },
          "execution_count": 39
        }
      ]
    },
    {
      "cell_type": "code",
      "metadata": {
        "id": "Sxz_IPQV-obG",
        "colab": {
          "base_uri": "https://localhost:8080/"
        },
        "outputId": "f3964a8e-5320-4a43-8dfc-db99e671d9ae"
      },
      "source": [
        "v"
      ],
      "execution_count": 40,
      "outputs": [
        {
          "output_type": "execute_result",
          "data": {
            "text/plain": [
              "tensor([1., 2., 3., 4.])"
            ]
          },
          "metadata": {
            "tags": []
          },
          "execution_count": 40
        }
      ]
    },
    {
      "cell_type": "code",
      "metadata": {
        "id": "qQy2jIkD-obH",
        "colab": {
          "base_uri": "https://localhost:8080/"
        },
        "outputId": "7b002ae6-796c-4fc9-8f08-de4601172f6d"
      },
      "source": [
        "# Create a tensor with integers ranging from 1 to 5, excluding 5\n",
        "v = torch.arange(1, 4 + 1)\n",
        "v"
      ],
      "execution_count": 41,
      "outputs": [
        {
          "output_type": "execute_result",
          "data": {
            "text/plain": [
              "tensor([1, 2, 3, 4])"
            ]
          },
          "metadata": {
            "tags": []
          },
          "execution_count": 41
        }
      ]
    },
    {
      "cell_type": "code",
      "metadata": {
        "id": "1V9nH1xe-obH",
        "colab": {
          "base_uri": "https://localhost:8080/"
        },
        "outputId": "4dfd657f-3b5c-40cf-ba10-1d3d3ad070d6"
      },
      "source": [
        "# Square all elements in the tensor\n",
        "print(v.pow(2), v)"
      ],
      "execution_count": 42,
      "outputs": [
        {
          "output_type": "stream",
          "text": [
            "tensor([ 1,  4,  9, 16]) tensor([1, 2, 3, 4])\n"
          ],
          "name": "stdout"
        }
      ]
    },
    {
      "cell_type": "markdown",
      "metadata": {
        "id": "CATkdU9o-obH"
      },
      "source": [
        "## Matrices (2D Tensors)"
      ]
    },
    {
      "cell_type": "code",
      "metadata": {
        "id": "I8RJAed1-obH",
        "colab": {
          "base_uri": "https://localhost:8080/"
        },
        "outputId": "7aa25bdb-7aba-4af0-89ad-4b12137fa1b4"
      },
      "source": [
        "# Create a 2x4 tensor\n",
        "m = torch.Tensor([[2, 5, 3, 7],\n",
        "                  [4, 2, 1, 9]])\n",
        "m"
      ],
      "execution_count": 43,
      "outputs": [
        {
          "output_type": "execute_result",
          "data": {
            "text/plain": [
              "tensor([[2., 5., 3., 7.],\n",
              "        [4., 2., 1., 9.]])"
            ]
          },
          "metadata": {
            "tags": []
          },
          "execution_count": 43
        }
      ]
    },
    {
      "cell_type": "code",
      "metadata": {
        "id": "7ZH09Tlf-obH",
        "colab": {
          "base_uri": "https://localhost:8080/"
        },
        "outputId": "520fb73e-bcca-466f-f8a2-9697fdb2575e"
      },
      "source": [
        "m.dim()"
      ],
      "execution_count": 44,
      "outputs": [
        {
          "output_type": "execute_result",
          "data": {
            "text/plain": [
              "2"
            ]
          },
          "metadata": {
            "tags": []
          },
          "execution_count": 44
        }
      ]
    },
    {
      "cell_type": "code",
      "metadata": {
        "id": "iVQJdjpb-obI",
        "colab": {
          "base_uri": "https://localhost:8080/"
        },
        "outputId": "25ef7f80-4f78-4c96-d58f-cde085d9ed8f"
      },
      "source": [
        "print(m.size(0), m.size(1), m.size(), sep=' -- ')"
      ],
      "execution_count": 45,
      "outputs": [
        {
          "output_type": "stream",
          "text": [
            "2 -- 4 -- torch.Size([2, 4])\n"
          ],
          "name": "stdout"
        }
      ]
    },
    {
      "cell_type": "code",
      "metadata": {
        "id": "9Iuo5qkJ-obI",
        "colab": {
          "base_uri": "https://localhost:8080/"
        },
        "outputId": "d4b78975-2874-4139-f10d-36517e5b6890"
      },
      "source": [
        "# Returns the total number of elements, hence num-el (number of elements)\n",
        "m.numel()"
      ],
      "execution_count": 46,
      "outputs": [
        {
          "output_type": "execute_result",
          "data": {
            "text/plain": [
              "8"
            ]
          },
          "metadata": {
            "tags": []
          },
          "execution_count": 46
        }
      ]
    },
    {
      "cell_type": "code",
      "metadata": {
        "id": "RciaAhF--obI",
        "colab": {
          "base_uri": "https://localhost:8080/"
        },
        "outputId": "ea140077-cec5-42f8-bb8f-18123e1d7f25"
      },
      "source": [
        "# Indexing row 0, column 2 (0-indexed)\n",
        "m[0][2]"
      ],
      "execution_count": 47,
      "outputs": [
        {
          "output_type": "execute_result",
          "data": {
            "text/plain": [
              "tensor(3.)"
            ]
          },
          "metadata": {
            "tags": []
          },
          "execution_count": 47
        }
      ]
    },
    {
      "cell_type": "code",
      "metadata": {
        "id": "GGhdiY83-obI",
        "colab": {
          "base_uri": "https://localhost:8080/"
        },
        "outputId": "4ac9afc1-07f6-4756-a0cd-a621fd6f29e3"
      },
      "source": [
        "# Indexing column 1, all rows (returns size 2)\n",
        "m[:, 1]"
      ],
      "execution_count": 49,
      "outputs": [
        {
          "output_type": "execute_result",
          "data": {
            "text/plain": [
              "tensor([5., 2.])"
            ]
          },
          "metadata": {
            "tags": []
          },
          "execution_count": 49
        }
      ]
    },
    {
      "cell_type": "code",
      "metadata": {
        "id": "SynDMzsa-obI",
        "colab": {
          "base_uri": "https://localhost:8080/"
        },
        "outputId": "b81a8b9f-926a-46d3-d253-4a4a07593b1c"
      },
      "source": [
        "# Indexing column 1, all rows (returns size 2x2)\n",
        "m[:, [1]]"
      ],
      "execution_count": 50,
      "outputs": [
        {
          "output_type": "execute_result",
          "data": {
            "text/plain": [
              "tensor([[5.],\n",
              "        [2.]])"
            ]
          },
          "metadata": {
            "tags": []
          },
          "execution_count": 50
        }
      ]
    },
    {
      "cell_type": "code",
      "metadata": {
        "id": "d3TGufFm-obJ",
        "colab": {
          "base_uri": "https://localhost:8080/"
        },
        "outputId": "9ef932d7-ad5d-40da-85e7-35cc77b9e003"
      },
      "source": [
        "# Indexes row 0, all columns (returns 1x4)\n",
        "m[[0], :]"
      ],
      "execution_count": 51,
      "outputs": [
        {
          "output_type": "execute_result",
          "data": {
            "text/plain": [
              "tensor([[2., 5., 3., 7.]])"
            ]
          },
          "metadata": {
            "tags": []
          },
          "execution_count": 51
        }
      ]
    },
    {
      "cell_type": "code",
      "metadata": {
        "id": "4Zy7I93B-obJ",
        "colab": {
          "base_uri": "https://localhost:8080/"
        },
        "outputId": "f5e32f77-7d24-431d-a03e-3aefd74d21fb"
      },
      "source": [
        "# Indexes row 0, all columns (returns size 4)\n",
        "m[0, :]"
      ],
      "execution_count": 52,
      "outputs": [
        {
          "output_type": "execute_result",
          "data": {
            "text/plain": [
              "tensor([2., 5., 3., 7.])"
            ]
          },
          "metadata": {
            "tags": []
          },
          "execution_count": 52
        }
      ]
    },
    {
      "cell_type": "code",
      "metadata": {
        "id": "hvWZvXbI-obJ",
        "colab": {
          "base_uri": "https://localhost:8080/"
        },
        "outputId": "2988989b-1f39-490d-d467-4a7ac9275a8a"
      },
      "source": [
        "# Create tensor of numbers from 1 to 5 (excluding 5)\n",
        "v = torch.arange(1., 4 + 1)\n",
        "v"
      ],
      "execution_count": 53,
      "outputs": [
        {
          "output_type": "execute_result",
          "data": {
            "text/plain": [
              "tensor([1., 2., 3., 4.])"
            ]
          },
          "metadata": {
            "tags": []
          },
          "execution_count": 53
        }
      ]
    },
    {
      "cell_type": "code",
      "metadata": {
        "id": "O28hzWtN-obJ",
        "colab": {
          "base_uri": "https://localhost:8080/"
        },
        "outputId": "b6c15cdc-3ccf-42b2-f731-8b5aaf5d6c0e"
      },
      "source": [
        "m"
      ],
      "execution_count": 54,
      "outputs": [
        {
          "output_type": "execute_result",
          "data": {
            "text/plain": [
              "tensor([[2., 5., 3., 7.],\n",
              "        [4., 2., 1., 9.]])"
            ]
          },
          "metadata": {
            "tags": []
          },
          "execution_count": 54
        }
      ]
    },
    {
      "cell_type": "code",
      "metadata": {
        "id": "AkIwOXOL-obJ",
        "colab": {
          "base_uri": "https://localhost:8080/"
        },
        "outputId": "7a0c6ed7-ba45-4f5e-cfb7-3bfd6ba5e259"
      },
      "source": [
        "# Scalar product\n",
        "m @ v"
      ],
      "execution_count": 55,
      "outputs": [
        {
          "output_type": "execute_result",
          "data": {
            "text/plain": [
              "tensor([49., 47.])"
            ]
          },
          "metadata": {
            "tags": []
          },
          "execution_count": 55
        }
      ]
    },
    {
      "cell_type": "code",
      "metadata": {
        "id": "tsgkKyqd-obJ",
        "colab": {
          "base_uri": "https://localhost:8080/"
        },
        "outputId": "144b66f5-a412-4ea2-aa39-03606eaeacee"
      },
      "source": [
        "# Calculated by 1*2 + 2*5 + 3*3 + 4*7\n",
        "m[[0], :] @ v"
      ],
      "execution_count": 56,
      "outputs": [
        {
          "output_type": "execute_result",
          "data": {
            "text/plain": [
              "tensor([49.])"
            ]
          },
          "metadata": {
            "tags": []
          },
          "execution_count": 56
        }
      ]
    },
    {
      "cell_type": "code",
      "metadata": {
        "id": "QlqBiu5a-obK",
        "colab": {
          "base_uri": "https://localhost:8080/"
        },
        "outputId": "50f24dbf-1501-479c-ac18-82a6dbae6aa8"
      },
      "source": [
        "# Calculated by \n",
        "m[[1], :] @ v"
      ],
      "execution_count": 57,
      "outputs": [
        {
          "output_type": "execute_result",
          "data": {
            "text/plain": [
              "tensor([47.])"
            ]
          },
          "metadata": {
            "tags": []
          },
          "execution_count": 57
        }
      ]
    },
    {
      "cell_type": "code",
      "metadata": {
        "id": "hqg4rhic-obK",
        "colab": {
          "base_uri": "https://localhost:8080/"
        },
        "outputId": "139f988d-0cbb-4e69-993d-37a98fe27cf7"
      },
      "source": [
        "# Add a random tensor of size 2x4 to m\n",
        "m + torch.rand(2, 4)"
      ],
      "execution_count": 58,
      "outputs": [
        {
          "output_type": "execute_result",
          "data": {
            "text/plain": [
              "tensor([[2.1321, 5.0004, 3.9500, 7.9216],\n",
              "        [4.8240, 2.6351, 1.0079, 9.2050]])"
            ]
          },
          "metadata": {
            "tags": []
          },
          "execution_count": 58
        }
      ]
    },
    {
      "cell_type": "code",
      "metadata": {
        "id": "dx4UjsgY-obK",
        "colab": {
          "base_uri": "https://localhost:8080/"
        },
        "outputId": "21201f3a-22dd-4076-a303-d363171c1d80"
      },
      "source": [
        "# Subtract a random tensor of size 2x4 to m\n",
        "m - torch.rand(2, 4)"
      ],
      "execution_count": 59,
      "outputs": [
        {
          "output_type": "execute_result",
          "data": {
            "text/plain": [
              "tensor([[1.6404, 4.4179, 2.8282, 6.5154],\n",
              "        [3.3096, 1.9430, 0.3078, 8.4081]])"
            ]
          },
          "metadata": {
            "tags": []
          },
          "execution_count": 59
        }
      ]
    },
    {
      "cell_type": "code",
      "metadata": {
        "id": "91f74dt1-obK",
        "colab": {
          "base_uri": "https://localhost:8080/"
        },
        "outputId": "9346935c-1fb3-41d6-8d15-097eab2e8c4f"
      },
      "source": [
        "# Multiply a random tensor of size 2x4 to m\n",
        "m * torch.rand(2, 4)"
      ],
      "execution_count": 60,
      "outputs": [
        {
          "output_type": "execute_result",
          "data": {
            "text/plain": [
              "tensor([[0.7499, 1.0510, 0.4377, 0.2336],\n",
              "        [3.3690, 0.8787, 0.7042, 5.1747]])"
            ]
          },
          "metadata": {
            "tags": []
          },
          "execution_count": 60
        }
      ]
    },
    {
      "cell_type": "code",
      "metadata": {
        "id": "p4acsMvM-obK",
        "colab": {
          "base_uri": "https://localhost:8080/"
        },
        "outputId": "de8312c1-cd7e-4eb1-f6ff-6a7e306104a4"
      },
      "source": [
        "# Divide m by a random tensor of size 2x4\n",
        "m / torch.rand(2, 4)"
      ],
      "execution_count": 61,
      "outputs": [
        {
          "output_type": "execute_result",
          "data": {
            "text/plain": [
              "tensor([[ 3.5035, 49.8911, 13.2233,  7.8261],\n",
              "        [ 4.8278,  4.1425,  5.7349, 16.3745]])"
            ]
          },
          "metadata": {
            "tags": []
          },
          "execution_count": 61
        }
      ]
    },
    {
      "cell_type": "code",
      "metadata": {
        "id": "xX6EXiXZ-obK",
        "colab": {
          "base_uri": "https://localhost:8080/"
        },
        "outputId": "456860fc-acc3-4554-b3a5-43fad1af09a3"
      },
      "source": [
        "m.size()"
      ],
      "execution_count": 62,
      "outputs": [
        {
          "output_type": "execute_result",
          "data": {
            "text/plain": [
              "torch.Size([2, 4])"
            ]
          },
          "metadata": {
            "tags": []
          },
          "execution_count": 62
        }
      ]
    },
    {
      "cell_type": "code",
      "metadata": {
        "id": "4bSRB7k9-obL",
        "colab": {
          "base_uri": "https://localhost:8080/"
        },
        "outputId": "25997887-c9e5-4ed1-d355-59dd21eb55a4"
      },
      "source": [
        "# Transpose tensor m, which is essentially 2x4 to 4x2\n",
        "m.t()"
      ],
      "execution_count": 63,
      "outputs": [
        {
          "output_type": "execute_result",
          "data": {
            "text/plain": [
              "tensor([[2., 4.],\n",
              "        [5., 2.],\n",
              "        [3., 1.],\n",
              "        [7., 9.]])"
            ]
          },
          "metadata": {
            "tags": []
          },
          "execution_count": 63
        }
      ]
    },
    {
      "cell_type": "code",
      "metadata": {
        "id": "y69o3OI0-obL",
        "colab": {
          "base_uri": "https://localhost:8080/"
        },
        "outputId": "1a79ec60-f0b0-4066-cabe-4f77675388bf"
      },
      "source": [
        "# Same as\n",
        "m.transpose(0, 1)"
      ],
      "execution_count": 64,
      "outputs": [
        {
          "output_type": "execute_result",
          "data": {
            "text/plain": [
              "tensor([[2., 4.],\n",
              "        [5., 2.],\n",
              "        [3., 1.],\n",
              "        [7., 9.]])"
            ]
          },
          "metadata": {
            "tags": []
          },
          "execution_count": 64
        }
      ]
    },
    {
      "cell_type": "markdown",
      "metadata": {
        "id": "9SUGJ87R-obL"
      },
      "source": [
        "## Constructors"
      ]
    },
    {
      "cell_type": "code",
      "metadata": {
        "id": "pn-ZvoEp-obL",
        "colab": {
          "base_uri": "https://localhost:8080/"
        },
        "outputId": "3cc824c5-132c-4401-9df3-9f00f619d844"
      },
      "source": [
        "# Create tensor from 3 to 8, with each having a space of 1\n",
        "torch.arange(3., 8 + 1)"
      ],
      "execution_count": 65,
      "outputs": [
        {
          "output_type": "execute_result",
          "data": {
            "text/plain": [
              "tensor([3., 4., 5., 6., 7., 8.])"
            ]
          },
          "metadata": {
            "tags": []
          },
          "execution_count": 65
        }
      ]
    },
    {
      "cell_type": "code",
      "metadata": {
        "id": "g990Qg7j-obL",
        "colab": {
          "base_uri": "https://localhost:8080/"
        },
        "outputId": "acde6ee9-3b7b-41db-f48f-e252291aefcc"
      },
      "source": [
        "# Create tensor from 5.7 to -2.1 with each having a space of -3\n",
        "torch.arange(5.7, -2.1, -3)"
      ],
      "execution_count": 66,
      "outputs": [
        {
          "output_type": "execute_result",
          "data": {
            "text/plain": [
              "tensor([ 5.7000,  2.7000, -0.3000])"
            ]
          },
          "metadata": {
            "tags": []
          },
          "execution_count": 66
        }
      ]
    },
    {
      "cell_type": "code",
      "metadata": {
        "id": "GnojiXdG-obM",
        "colab": {
          "base_uri": "https://localhost:8080/"
        },
        "outputId": "bc951da8-ca7f-4956-b05b-d664f9d2fea2"
      },
      "source": [
        "# returns a 1D tensor of steps equally spaced points between start=3, end=8 and steps=20\n",
        "torch.linspace(3, 8, 20).view(1, -1)"
      ],
      "execution_count": 69,
      "outputs": [
        {
          "output_type": "execute_result",
          "data": {
            "text/plain": [
              "tensor([[3.0000, 3.2632, 3.5263, 3.7895, 4.0526, 4.3158, 4.5789, 4.8421, 5.1053,\n",
              "         5.3684, 5.6316, 5.8947, 6.1579, 6.4211, 6.6842, 6.9474, 7.2105, 7.4737,\n",
              "         7.7368, 8.0000]])"
            ]
          },
          "metadata": {
            "tags": []
          },
          "execution_count": 69
        }
      ]
    },
    {
      "cell_type": "code",
      "metadata": {
        "id": "j8yToArf-obM",
        "colab": {
          "base_uri": "https://localhost:8080/"
        },
        "outputId": "2b04d57c-3ef3-4c77-8e35-d39830ad0d24"
      },
      "source": [
        "# Create a tensor filled with 0's\n",
        "torch.zeros(3, 5)"
      ],
      "execution_count": 70,
      "outputs": [
        {
          "output_type": "execute_result",
          "data": {
            "text/plain": [
              "tensor([[0., 0., 0., 0., 0.],\n",
              "        [0., 0., 0., 0., 0.],\n",
              "        [0., 0., 0., 0., 0.]])"
            ]
          },
          "metadata": {
            "tags": []
          },
          "execution_count": 70
        }
      ]
    },
    {
      "cell_type": "code",
      "metadata": {
        "id": "-4HvsKEB-obM",
        "colab": {
          "base_uri": "https://localhost:8080/"
        },
        "outputId": "ccffca58-74df-43e5-c8c4-0817688c7436"
      },
      "source": [
        "# Create a tensor filled with 1's\n",
        "torch.ones(3, 2, 5)"
      ],
      "execution_count": 71,
      "outputs": [
        {
          "output_type": "execute_result",
          "data": {
            "text/plain": [
              "tensor([[[1., 1., 1., 1., 1.],\n",
              "         [1., 1., 1., 1., 1.]],\n",
              "\n",
              "        [[1., 1., 1., 1., 1.],\n",
              "         [1., 1., 1., 1., 1.]],\n",
              "\n",
              "        [[1., 1., 1., 1., 1.],\n",
              "         [1., 1., 1., 1., 1.]]])"
            ]
          },
          "metadata": {
            "tags": []
          },
          "execution_count": 71
        }
      ]
    },
    {
      "cell_type": "code",
      "metadata": {
        "id": "6PIOrP4M-obM",
        "colab": {
          "base_uri": "https://localhost:8080/"
        },
        "outputId": "41ab0c1a-4c9f-457a-a8d1-991157c23012"
      },
      "source": [
        "# Create a tensor with the diagonal filled with 1\n",
        "# Identity\n",
        "torch.eye(3)"
      ],
      "execution_count": 72,
      "outputs": [
        {
          "output_type": "execute_result",
          "data": {
            "text/plain": [
              "tensor([[1., 0., 0.],\n",
              "        [0., 1., 0.],\n",
              "        [0., 0., 1.]])"
            ]
          },
          "metadata": {
            "tags": []
          },
          "execution_count": 72
        }
      ]
    },
    {
      "cell_type": "code",
      "metadata": {
        "id": "SS8DKo2B-obM"
      },
      "source": [
        "# Set default plots\n",
        "#from res.plot_lib import set_default\n",
        "from matplotlib import pyplot as plt\n",
        "#set_default()"
      ],
      "execution_count": 74,
      "outputs": []
    },
    {
      "cell_type": "code",
      "metadata": {
        "id": "bF2syqtm-obN",
        "colab": {
          "base_uri": "https://localhost:8080/",
          "height": 265
        },
        "outputId": "e9f74bee-2274-42cf-c185-0446ce65a05e"
      },
      "source": [
        "# Numpy bridge!\n",
        "plt.hist(torch.randn(1000).numpy(), 100);"
      ],
      "execution_count": 78,
      "outputs": [
        {
          "output_type": "display_data",
          "data": {
            "image/png": "[encoded data removed]",
            "text/plain": [
              "<Figure size 432x288 with 1 Axes>"
            ]
          },
          "metadata": {
            "tags": [],
            "needs_background": "light"
          }
        }
      ]
    },
    {
      "cell_type": "markdown",
      "metadata": {
        "id": "XoVUHjW-IyRg"
      },
      "source": [
        "Returns a tensor filled with random numbers from a normal distribution with mean 0 and variance 1 "
      ]
    },
    {
      "cell_type": "code",
      "metadata": {
        "id": "7jBZWADD-obN",
        "colab": {
          "base_uri": "https://localhost:8080/",
          "height": 266
        },
        "outputId": "ab267799-cde0-4cc4-8a58-2de06652c7df"
      },
      "source": [
        "plt.hist(torch.randn(10**6).numpy(), 100);  # how much does this chart weight?\n",
        "# use rasterized=True for SVG/EPS/PDF!"
      ],
      "execution_count": 79,
      "outputs": [
        {
          "output_type": "display_data",
          "data": {
            "image/png": "[encoded data removed]",
            "text/plain": [
              "<Figure size 432x288 with 1 Axes>"
            ]
          },
          "metadata": {
            "tags": [],
            "needs_background": "light"
          }
        }
      ]
    },
    {
      "cell_type": "markdown",
      "metadata": {
        "id": "LJ-GT5fYIzvf"
      },
      "source": [
        "Returns a tensor filled with random numbers from a uniform distribution on the interval `[0, 1)`"
      ]
    },
    {
      "cell_type": "code",
      "metadata": {
        "id": "sMTJKkxZ-obN",
        "colab": {
          "base_uri": "https://localhost:8080/",
          "height": 265
        },
        "outputId": "59259580-48cc-4d86-8218-6028beb1c3bd"
      },
      "source": [
        "plt.hist(torch.rand(10**6).numpy(), 100);"
      ],
      "execution_count": 80,
      "outputs": [
        {
          "output_type": "display_data",
          "data": {
            "image/png": "[encoded data removed]",
            "text/plain": [
              "<Figure size 432x288 with 1 Axes>"
            ]
          },
          "metadata": {
            "tags": [],
            "needs_background": "light"
          }
        }
      ]
    },
    {
      "cell_type": "markdown",
      "metadata": {
        "id": "kBdUE25d-obN"
      },
      "source": [
        "## Casting"
      ]
    },
    {
      "cell_type": "code",
      "metadata": {
        "id": "087CS_em-obN"
      },
      "source": [
        "# Helper to get what kind of tensor types\n",
        "torch.*Tensor?"
      ],
      "execution_count": 81,
      "outputs": []
    },
    {
      "cell_type": "code",
      "metadata": {
        "id": "NQLhkmkm-obN",
        "colab": {
          "base_uri": "https://localhost:8080/"
        },
        "outputId": "70fd534b-94b0-4567-adaa-17a36fafe9af"
      },
      "source": [
        "m"
      ],
      "execution_count": 82,
      "outputs": [
        {
          "output_type": "execute_result",
          "data": {
            "text/plain": [
              "tensor([[2., 5., 3., 7.],\n",
              "        [4., 2., 1., 9.]])"
            ]
          },
          "metadata": {
            "tags": []
          },
          "execution_count": 82
        }
      ]
    },
    {
      "cell_type": "code",
      "metadata": {
        "id": "Krn2XTT_-obN",
        "colab": {
          "base_uri": "https://localhost:8080/"
        },
        "outputId": "d8ad6868-0ee4-459d-ce2a-60197576996a"
      },
      "source": [
        "# This is basically a 64 bit float tensor\n",
        "m_double = m.double()\n",
        "m_double"
      ],
      "execution_count": 83,
      "outputs": [
        {
          "output_type": "execute_result",
          "data": {
            "text/plain": [
              "tensor([[2., 5., 3., 7.],\n",
              "        [4., 2., 1., 9.]], dtype=torch.float64)"
            ]
          },
          "metadata": {
            "tags": []
          },
          "execution_count": 83
        }
      ]
    },
    {
      "cell_type": "code",
      "metadata": {
        "id": "Lhpt5CAl-obO",
        "colab": {
          "base_uri": "https://localhost:8080/"
        },
        "outputId": "b550b25f-c0bf-4335-9112-6616ac635c4a"
      },
      "source": [
        "# This creates a tensor of type int8\n",
        "m_byte = m.byte()\n",
        "m_byte"
      ],
      "execution_count": 84,
      "outputs": [
        {
          "output_type": "execute_result",
          "data": {
            "text/plain": [
              "tensor([[2, 5, 3, 7],\n",
              "        [4, 2, 1, 9]], dtype=torch.uint8)"
            ]
          },
          "metadata": {
            "tags": []
          },
          "execution_count": 84
        }
      ]
    },
    {
      "cell_type": "code",
      "metadata": {
        "id": "D-1FF_n4-obO",
        "colab": {
          "base_uri": "https://localhost:8080/"
        },
        "outputId": "9d2372b9-94b2-4bf8-88fc-5c25fe86bdf5"
      },
      "source": [
        "# Move your tensor to GPU device 0 if there is one (first GPU in the system)\n",
        "device = torch.device(\"cuda:0\" if torch.cuda.is_available() else \"cpu\")\n",
        "m.to(device)"
      ],
      "execution_count": 85,
      "outputs": [
        {
          "output_type": "execute_result",
          "data": {
            "text/plain": [
              "tensor([[2., 5., 3., 7.],\n",
              "        [4., 2., 1., 9.]])"
            ]
          },
          "metadata": {
            "tags": []
          },
          "execution_count": 85
        }
      ]
    },
    {
      "cell_type": "code",
      "metadata": {
        "id": "ndYC4XDr-obO",
        "colab": {
          "base_uri": "https://localhost:8080/"
        },
        "outputId": "abcbb6f8-ef7e-405f-85e7-7a431d3c99f1"
      },
      "source": [
        "# Converts tensor to numpy array\n",
        "m_np = m.numpy()\n",
        "m_np"
      ],
      "execution_count": 86,
      "outputs": [
        {
          "output_type": "execute_result",
          "data": {
            "text/plain": [
              "array([[2., 5., 3., 7.],\n",
              "       [4., 2., 1., 9.]], dtype=float32)"
            ]
          },
          "metadata": {
            "tags": []
          },
          "execution_count": 86
        }
      ]
    },
    {
      "cell_type": "code",
      "metadata": {
        "id": "El-0tOd1-obO",
        "colab": {
          "base_uri": "https://localhost:8080/"
        },
        "outputId": "0b93e68d-f648-474b-de3b-59487dbb5333"
      },
      "source": [
        "# In-place fill of column 0 and row 0 with value -1\n",
        "m_np[0, 0] = -1\n",
        "m_np"
      ],
      "execution_count": 87,
      "outputs": [
        {
          "output_type": "execute_result",
          "data": {
            "text/plain": [
              "array([[-1.,  5.,  3.,  7.],\n",
              "       [ 4.,  2.,  1.,  9.]], dtype=float32)"
            ]
          },
          "metadata": {
            "tags": []
          },
          "execution_count": 87
        }
      ]
    },
    {
      "cell_type": "code",
      "metadata": {
        "id": "NE4lXX-R-obO",
        "colab": {
          "base_uri": "https://localhost:8080/"
        },
        "outputId": "2d221c04-5c2c-4c06-fb20-18323b5135ec"
      },
      "source": [
        "m"
      ],
      "execution_count": 88,
      "outputs": [
        {
          "output_type": "execute_result",
          "data": {
            "text/plain": [
              "tensor([[-1.,  5.,  3.,  7.],\n",
              "        [ 4.,  2.,  1.,  9.]])"
            ]
          },
          "metadata": {
            "tags": []
          },
          "execution_count": 88
        }
      ]
    },
    {
      "cell_type": "code",
      "metadata": {
        "id": "r16vHXxM-obO",
        "colab": {
          "base_uri": "https://localhost:8080/"
        },
        "outputId": "3a13b3b8-198f-42f0-f3f6-334ba3264f13"
      },
      "source": [
        "# Create a tensor of integers ranging from 0 to 4\n",
        "import numpy as np\n",
        "n_np = np.arange(5)\n",
        "n = torch.from_numpy(n_np)\n",
        "print(n_np, n)"
      ],
      "execution_count": 89,
      "outputs": [
        {
          "output_type": "stream",
          "text": [
            "[0 1 2 3 4] tensor([0, 1, 2, 3, 4])\n"
          ],
          "name": "stdout"
        }
      ]
    },
    {
      "cell_type": "code",
      "metadata": {
        "id": "-tvxmbrP-obP",
        "colab": {
          "base_uri": "https://localhost:8080/"
        },
        "outputId": "913b0642-f33d-4057-a571-6a6d2551a6e7"
      },
      "source": [
        "# In-place multiplication of all elements by 2 for tensor n\n",
        "# Because n is essentially n_np, not a clone, this affects n_np\n",
        "n.mul_(2)\n",
        "n_np"
      ],
      "execution_count": 90,
      "outputs": [
        {
          "output_type": "execute_result",
          "data": {
            "text/plain": [
              "array([0, 2, 4, 6, 8])"
            ]
          },
          "metadata": {
            "tags": []
          },
          "execution_count": 90
        }
      ]
    },
    {
      "cell_type": "markdown",
      "metadata": {
        "id": "XGJYxV-e-obP"
      },
      "source": [
        "## More fun"
      ]
    },
    {
      "cell_type": "code",
      "metadata": {
        "id": "1crcdB6K-obP",
        "colab": {
          "base_uri": "https://localhost:8080/"
        },
        "outputId": "26ffc4c5-3106-431a-bb8f-a1af8ea4cb95"
      },
      "source": [
        "# Creates two tensor of size 1x4\n",
        "a = torch.Tensor([[1, 2, 3, 4]])\n",
        "b = torch.Tensor([[5, 6, 7, 8]])\n",
        "print(a.size(), b)"
      ],
      "execution_count": 91,
      "outputs": [
        {
          "output_type": "stream",
          "text": [
            "torch.Size([1, 4]) tensor([[5., 6., 7., 8.]])\n"
          ],
          "name": "stdout"
        }
      ]
    },
    {
      "cell_type": "code",
      "metadata": {
        "id": "9kdId6Nn-obP",
        "colab": {
          "base_uri": "https://localhost:8080/"
        },
        "outputId": "d877e31d-1088-43cc-a894-bb30c828292d"
      },
      "source": [
        "# Concatenate on axis 0, so you get 2x4\n",
        "torch.cat((a, b), 0)"
      ],
      "execution_count": 92,
      "outputs": [
        {
          "output_type": "execute_result",
          "data": {
            "text/plain": [
              "tensor([[1., 2., 3., 4.],\n",
              "        [5., 6., 7., 8.]])"
            ]
          },
          "metadata": {
            "tags": []
          },
          "execution_count": 92
        }
      ]
    },
    {
      "cell_type": "code",
      "metadata": {
        "id": "eCGfq7Mu-obP",
        "colab": {
          "base_uri": "https://localhost:8080/"
        },
        "outputId": "4e3f075d-b224-4a31-9caa-ce0b99e75a92"
      },
      "source": [
        "# Concatenate on axis 1, so you get 1x8\n",
        "torch.cat((a, b), 1)"
      ],
      "execution_count": 93,
      "outputs": [
        {
          "output_type": "execute_result",
          "data": {
            "text/plain": [
              "tensor([[1., 2., 3., 4., 5., 6., 7., 8.]])"
            ]
          },
          "metadata": {
            "tags": []
          },
          "execution_count": 93
        }
      ]
    },
    {
      "cell_type": "markdown",
      "metadata": {
        "id": "MHR-k9fw-obP"
      },
      "source": [
        "## Much more\n",
        "\n",
        "There's definitely much more, but this was the basics about `Tensor`s fun.\n",
        "\n",
        "*Torch* full API should be read at least once.\n",
        "Hence, go [here](https://pytorch.org/docs/stable/index.html).\n",
        "You'll find 100+ `Tensor` operations, including transposing, indexing, slicing, mathematical operations, linear algebra, random numbers, etc are described."
      ]
    }
  ]
}