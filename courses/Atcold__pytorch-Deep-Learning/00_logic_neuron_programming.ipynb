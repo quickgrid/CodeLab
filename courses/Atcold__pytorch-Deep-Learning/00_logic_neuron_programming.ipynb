{
  "nbformat": 4,
  "nbformat_minor": 0,
  "metadata": {
    "jupytext": {
      "encoding": "# -*- coding: utf-8 -*-"
    },
    "kernelspec": {
      "display_name": "Python 3",
      "language": "python",
      "name": "python3"
    },
    "language_info": {
      "codemirror_mode": {
        "name": "ipython",
        "version": 3
      },
      "file_extension": ".py",
      "mimetype": "text/x-python",
      "name": "python",
      "nbconvert_exporter": "python",
      "pygments_lexer": "ipython3",
      "version": "3.7.4"
    },
    "colab": {
      "name": "00-logic_neuron_programming.ipynb",
      "provenance": [],
      "include_colab_link": true
    }
  },
  "cells": [
    {
      "cell_type": "markdown",
      "metadata": {
        "id": "view-in-github",
        "colab_type": "text"
      },
      "source": [
        "<a href=\"https://colab.research.google.com/github/quickgrid/CodeLab/blob/master/courses/Atcold__pytorch-Deep-Learning/00_logic_neuron_programming.ipynb\" target=\"_parent\"><img src=\"https://colab.research.google.com/assets/colab-badge.svg\" alt=\"Open In Colab\"/></a>"
      ]
    },
    {
      "cell_type": "markdown",
      "metadata": {
        "id": "vRfSKmyD3STP"
      },
      "source": [
        "**Looking back it seems like tuple or loops were better choice for the functions. Reason is unnecessary list conversions multiple times such as,**\r\n",
        "\r\n",
        "```\r\n",
        "or_neuron([and_neuron([x[0], not_neuron([x[1]])]), and_neuron([not_neuron([x[0]]), x[1]])])\r\n",
        "```"
      ]
    },
    {
      "cell_type": "markdown",
      "metadata": {
        "id": "wCX-3NBfBvt-"
      },
      "source": [
        "# Code your own neuron and neural net\n",
        "The parts of code that look like\n",
        "```python\n",
        "pass  # ⬅️✏️\n",
        "```\n",
        "need to be filled in before moving to the next cell.\n",
        "\n",
        "Check out the slides and / or corresponding video lecture for more instructions."
      ]
    },
    {
      "cell_type": "code",
      "metadata": {
        "id": "lmdRM__0rdDv"
      },
      "source": [
        "import numpy as np"
      ],
      "execution_count": 3,
      "outputs": []
    },
    {
      "cell_type": "code",
      "metadata": {
        "lines_to_next_cell": 1,
        "id": "13QE8nCHBvuF"
      },
      "source": [
        "# Define two vectors (lists): input my_x, weights my_w\n",
        "my_x = [0, 1, 1]\n",
        "my_w = [-10, 10, 5]"
      ],
      "execution_count": 31,
      "outputs": []
    },
    {
      "cell_type": "code",
      "metadata": {
        "id": "KZ8W28oNBvuG"
      },
      "source": [
        "# Multiply two lists element wise\n",
        "def mul(a, b):\n",
        "    \"\"\"\n",
        "    return a list c, same length as a, element c[i] = a[i] * b[i]\n",
        "    \"len(list)\" and \"[0] * n\" may be useful\n",
        "    \"\"\"\n",
        "    #pass  # ⬅️✏️\n",
        "\n",
        "    if len(a) != len(b):\n",
        "      raise Exception(\"ERROR shapes don't match\")\n",
        "\n",
        "    n = len(a)\n",
        "    c = np.ndarray(shape=(n), dtype=float)\n",
        "    for i in range(n):\n",
        "      c[i] = a[i] * b[i]\n",
        "    return c"
      ],
      "execution_count": 32,
      "outputs": []
    },
    {
      "cell_type": "markdown",
      "metadata": {
        "id": "McHhq22WBvuG"
      },
      "source": [
        "---"
      ]
    },
    {
      "cell_type": "code",
      "metadata": {
        "id": "AIoqoH51BvuH",
        "colab": {
          "base_uri": "https://localhost:8080/"
        },
        "outputId": "ce3d7b19-7fa0-4ac8-d913-6aac91f70815"
      },
      "source": [
        "# Test mul() function\n",
        "mul(my_x, my_w)"
      ],
      "execution_count": 33,
      "outputs": [
        {
          "output_type": "execute_result",
          "data": {
            "text/plain": [
              "array([ 0., 10.,  5.])"
            ]
          },
          "metadata": {
            "tags": []
          },
          "execution_count": 33
        }
      ]
    },
    {
      "cell_type": "code",
      "metadata": {
        "lines_to_next_cell": 1,
        "id": "7VRonW08BvuH"
      },
      "source": [
        "# Define a scalar: bias b\n",
        "my_b = -5"
      ],
      "execution_count": 18,
      "outputs": []
    },
    {
      "cell_type": "code",
      "metadata": {
        "id": "J3WnyFfmBvuH"
      },
      "source": [
        "# Neuron linear (internal) potential\n",
        "def linear_neuron(x, weights, bias):\n",
        "    \"\"\"\n",
        "    return a scalar value representing a scalar neuron\n",
        "    \"sum(list)\" computes the sum of the elements in a list\n",
        "    \"\"\"\n",
        "    #pass  # ⬅️✏️\n",
        "\n",
        "    wx = mul(x, weights)\n",
        "    return sum(wx) + bias"
      ],
      "execution_count": 23,
      "outputs": []
    },
    {
      "cell_type": "markdown",
      "metadata": {
        "id": "BmOFK7WWBvuI"
      },
      "source": [
        "---"
      ]
    },
    {
      "cell_type": "code",
      "metadata": {
        "id": "afyOrCQ9BvuI",
        "colab": {
          "base_uri": "https://localhost:8080/"
        },
        "outputId": "bc741549-163a-4c98-cafd-bee46f64834c"
      },
      "source": [
        "# Test linear_neuron() function\n",
        "linear_neuron(my_x, my_w, my_b)"
      ],
      "execution_count": 24,
      "outputs": [
        {
          "output_type": "execute_result",
          "data": {
            "text/plain": [
              "10.0"
            ]
          },
          "metadata": {
            "tags": []
          },
          "execution_count": 24
        }
      ]
    },
    {
      "cell_type": "code",
      "metadata": {
        "lines_to_next_cell": 1,
        "id": "ZAi2_I7OBvuI"
      },
      "source": [
        "# Import exp() function (safe on lists)\n",
        "from numpy import exp"
      ],
      "execution_count": 35,
      "outputs": []
    },
    {
      "cell_type": "code",
      "metadata": {
        "id": "600oIhg4BvuI"
      },
      "source": [
        "# Logistic sigmoid\n",
        "def sigmoid(z):\n",
        "    \"\"\"\n",
        "    return the logistic sigmoid (use exp())\n",
        "    \"\"\"\n",
        "    #pass  # ⬅️✏️\n",
        "\n",
        "    return 1 / (1 + exp(-z)) "
      ],
      "execution_count": 39,
      "outputs": []
    },
    {
      "cell_type": "markdown",
      "metadata": {
        "id": "mV0Udlz7BvuJ"
      },
      "source": [
        "---"
      ]
    },
    {
      "cell_type": "code",
      "metadata": {
        "id": "DwJO9ITmBvuJ",
        "colab": {
          "base_uri": "https://localhost:8080/"
        },
        "outputId": "78239e15-ea54-4084-f79e-f341db53fd96"
      },
      "source": [
        "# Try out σ() for different z values\n",
        "for z in (-5, 0, 5): print(sigmoid(z))"
      ],
      "execution_count": 40,
      "outputs": [
        {
          "output_type": "stream",
          "text": [
            "0.0066928509242848554\n",
            "0.5\n",
            "0.9933071490757153\n"
          ],
          "name": "stdout"
        }
      ]
    },
    {
      "cell_type": "code",
      "metadata": {
        "id": "78esmSi8BvuJ"
      },
      "source": [
        "# Import some plotting stuff to graph sigmoid()\n",
        "from numpy import linspace\n",
        "from matplotlib.pyplot import plot, axhline, axvline, grid, style\n",
        "style.use('dark_background')"
      ],
      "execution_count": 41,
      "outputs": []
    },
    {
      "cell_type": "code",
      "metadata": {
        "id": "oYFMSYh6BvuJ",
        "colab": {
          "base_uri": "https://localhost:8080/",
          "height": 265
        },
        "outputId": "67169c92-f448-4d9c-9b95-8cf2816a3c82"
      },
      "source": [
        "# Get a pair of axis and grid lines centred in (0, 0)\n",
        "axhline(c='.2'); axvline(color='.2')\n",
        "grid(c='.1', ls='--')\n",
        "\n",
        "# Plot across a span of numbers\n",
        "z = linspace(-7.5, 7.5)\n",
        "plot(z, sigmoid(z));"
      ],
      "execution_count": 44,
      "outputs": [
        {
          "output_type": "display_data",
          "data": {
            "image/png": "[encoded data removed]",
            "text/plain": [
              "<Figure size 432x288 with 1 Axes>"
            ]
          },
          "metadata": {
            "tags": []
          }
        }
      ]
    },
    {
      "cell_type": "code",
      "metadata": {
        "id": "m9_nnfmHBvuK"
      },
      "source": [
        "# Full neuron function\n",
        "def neuron(x, weights, bias):\n",
        "    \"\"\"\n",
        "    Return a classical neuron output (reuse code above)\n",
        "    \"\"\"\n",
        "    #pass  # ⬅️✏️\n",
        "    return linear_neuron(x, weights, bias)"
      ],
      "execution_count": 45,
      "outputs": []
    },
    {
      "cell_type": "markdown",
      "metadata": {
        "id": "vdVDgViPBvuK"
      },
      "source": [
        "---"
      ]
    },
    {
      "cell_type": "code",
      "metadata": {
        "id": "B5W4dTPhBvuK",
        "colab": {
          "base_uri": "https://localhost:8080/"
        },
        "outputId": "d30af1ff-6209-4fa5-cb81-af1e469f0ae2"
      },
      "source": [
        "# Test neuron() function\n",
        "neuron(my_x, my_w, my_b)"
      ],
      "execution_count": 46,
      "outputs": [
        {
          "output_type": "execute_result",
          "data": {
            "text/plain": [
              "10.0"
            ]
          },
          "metadata": {
            "tags": []
          },
          "execution_count": 46
        }
      ]
    },
    {
      "cell_type": "code",
      "metadata": {
        "lines_to_next_cell": 1,
        "id": "lC2x1XJ1BvuK"
      },
      "source": [
        "# Package OR neuron weights and bias\n",
        "def or_neuron(x):\n",
        "    \"\"\"\n",
        "    Return x1 OR x2 (x1 + x2)\n",
        "    \"\"\"\n",
        "    #pass  # ⬅️✏️\n",
        "    \n",
        "    if len(x) != 2:\n",
        "      raise Exception(\"Function designed for tuple with two values\")\n",
        "\n",
        "    return x[0] | x[1]"
      ],
      "execution_count": 56,
      "outputs": []
    },
    {
      "cell_type": "markdown",
      "metadata": {
        "id": "CoPA-rmZBvuL"
      },
      "source": [
        "---"
      ]
    },
    {
      "cell_type": "code",
      "metadata": {
        "id": "myuBNLucBvuL"
      },
      "source": [
        "# Defina a collection of inputs to test OR and AND\n",
        "my_x_collection = [\n",
        "    [0, 0],\n",
        "    [0, 1],\n",
        "    [1, 0],\n",
        "    [1, 1],\n",
        "]"
      ],
      "execution_count": 48,
      "outputs": []
    },
    {
      "cell_type": "code",
      "metadata": {
        "lines_to_next_cell": 1,
        "id": "yGUI4SZ2BvuM",
        "colab": {
          "base_uri": "https://localhost:8080/"
        },
        "outputId": "ce39652a-14eb-4830-c128-fc598bfdd62a"
      },
      "source": [
        "print('Checking OR neuron output')\n",
        "for my_x in my_x_collection:\n",
        "    print(my_x, f'{or_neuron(my_x):.3f}')"
      ],
      "execution_count": 57,
      "outputs": [
        {
          "output_type": "stream",
          "text": [
            "Checking OR neuron output\n",
            "[0, 0] 0.000\n",
            "[0, 1] 1.000\n",
            "[1, 0] 1.000\n",
            "[1, 1] 1.000\n"
          ],
          "name": "stdout"
        }
      ]
    },
    {
      "cell_type": "code",
      "metadata": {
        "lines_to_next_cell": 1,
        "id": "4JmlrGrEBvuM"
      },
      "source": [
        "# Package AND neuron weights and bias\n",
        "def and_neuron(x):\n",
        "    \"\"\"\n",
        "    Return x1 AND x2 (x1 * x2)\n",
        "    \"\"\"\n",
        "    #pass  # ⬅️✏️\n",
        "\n",
        "    if len(x) != 2:\n",
        "      raise Exception(\"Function designed for tuple with two values\")\n",
        "\n",
        "    return x[0] & x[1]"
      ],
      "execution_count": 54,
      "outputs": []
    },
    {
      "cell_type": "markdown",
      "metadata": {
        "id": "pvpK0cQIBvuN"
      },
      "source": [
        "---"
      ]
    },
    {
      "cell_type": "code",
      "metadata": {
        "lines_to_next_cell": 1,
        "id": "ULatf0hbBvuN",
        "colab": {
          "base_uri": "https://localhost:8080/"
        },
        "outputId": "cda755c6-26cf-4849-eb91-953a46664242"
      },
      "source": [
        "print('Checking AND neuron output')\n",
        "for my_x in my_x_collection:\n",
        "    print(my_x, f'{and_neuron(my_x):.3f}')"
      ],
      "execution_count": 55,
      "outputs": [
        {
          "output_type": "stream",
          "text": [
            "Checking AND neuron output\n",
            "[0, 0] 0.000\n",
            "[0, 1] 0.000\n",
            "[1, 0] 0.000\n",
            "[1, 1] 1.000\n"
          ],
          "name": "stdout"
        }
      ]
    },
    {
      "cell_type": "code",
      "metadata": {
        "lines_to_next_cell": 1,
        "id": "RH23gvtEBvuN"
      },
      "source": [
        "# Package NOT neuron weight and bias\n",
        "def not_neuron(x):\n",
        "    \"\"\"\n",
        "    Return NOT x1 (x1_)\n",
        "    \"\"\"\n",
        "    #pass  # ⬅️✏️\n",
        "\n",
        "    return 0 if x[0] else 1"
      ],
      "execution_count": 72,
      "outputs": []
    },
    {
      "cell_type": "markdown",
      "metadata": {
        "id": "qGlBB1WiBvuN"
      },
      "source": [
        "---"
      ]
    },
    {
      "cell_type": "code",
      "metadata": {
        "lines_to_next_cell": 1,
        "id": "jSan36PUBvuO",
        "colab": {
          "base_uri": "https://localhost:8080/"
        },
        "outputId": "4b135a19-f849-4ab3-a097-b78a38b14df2"
      },
      "source": [
        "print('Checking NOT neuron output')\n",
        "for my_x in [[0], [1]]:\n",
        "    print(my_x, f'{not_neuron(my_x):.3f}')"
      ],
      "execution_count": 73,
      "outputs": [
        {
          "output_type": "stream",
          "text": [
            "Checking NOT neuron output\n",
            "[0] 1.000\n",
            "[1] 0.000\n"
          ],
          "name": "stdout"
        }
      ]
    },
    {
      "cell_type": "markdown",
      "metadata": {
        "id": "MLm9l1EjBvuO"
      },
      "source": [
        "![X-OR](https://github.com/Atcold/pytorch-Deep-Learning/blob/master/res/x-or_circuit.png?raw=1)"
      ]
    },
    {
      "cell_type": "code",
      "metadata": {
        "id": "LWyxQ366BvuO"
      },
      "source": [
        "# Combine OR, AND, and NOT into a XOR neuron\n",
        "def xor_neuron(x):\n",
        "    \"\"\"\n",
        "    Return x1_ * x2 + x1 * x2_\n",
        "    \"\"\"\n",
        "    #pass  # ⬅️✏️\n",
        "\n",
        "    return or_neuron([and_neuron([x[0], not_neuron([x[1]])]), and_neuron([not_neuron([x[0]]), x[1]])])"
      ],
      "execution_count": 78,
      "outputs": []
    },
    {
      "cell_type": "markdown",
      "metadata": {
        "id": "KjsMGtlTBvuO"
      },
      "source": [
        "---"
      ]
    },
    {
      "cell_type": "code",
      "metadata": {
        "id": "WxtGx_3uBvuP",
        "colab": {
          "base_uri": "https://localhost:8080/"
        },
        "outputId": "b2ba0c61-fca8-4bb4-c80e-913ab989d71b"
      },
      "source": [
        "print('Checking XOR neuron output')\n",
        "for my_x in my_x_collection:\n",
        "    print(my_x, f'{xor_neuron(my_x):.3f}')"
      ],
      "execution_count": 79,
      "outputs": [
        {
          "output_type": "stream",
          "text": [
            "Checking XOR neuron output\n",
            "[0, 0] 0.000\n",
            "[0, 1] 1.000\n",
            "[1, 0] 1.000\n",
            "[1, 1] 0.000\n"
          ],
          "name": "stdout"
        }
      ]
    },
    {
      "cell_type": "markdown",
      "metadata": {
        "id": "1sfWBQ9bBvuP"
      },
      "source": [
        "![Half-adder](https://github.com/Atcold/pytorch-Deep-Learning/blob/master/res/half-adder_circuit.png?raw=1)"
      ]
    },
    {
      "cell_type": "code",
      "metadata": {
        "id": "pg6XB-YiBvuP"
      },
      "source": [
        "# Combine a XOR and an AND into a half-adder\n",
        "# ⬅️✏️\n",
        "\n",
        "def half_adder(x):\n",
        "  return xor_neuron(x), and_neuron(x)\n",
        "\n"
      ],
      "execution_count": 81,
      "outputs": []
    },
    {
      "cell_type": "code",
      "metadata": {
        "colab": {
          "base_uri": "https://localhost:8080/"
        },
        "id": "9K8GW5wN4Sq3",
        "outputId": "770cb8b8-01db-4952-a69c-db5cce793a9d"
      },
      "source": [
        "print('Checking XOR neuron output')\r\n",
        "for my_x in my_x_collection:\r\n",
        "    print(my_x, f'{half_adder(my_x)}')"
      ],
      "execution_count": 83,
      "outputs": [
        {
          "output_type": "stream",
          "text": [
            "Checking XOR neuron output\n",
            "[0, 0] (0, 0)\n",
            "[0, 1] (1, 0)\n",
            "[1, 0] (1, 0)\n",
            "[1, 1] (0, 1)\n"
          ],
          "name": "stdout"
        }
      ]
    },
    {
      "cell_type": "markdown",
      "metadata": {
        "id": "2mLmw2TiBvuP"
      },
      "source": [
        "---"
      ]
    },
    {
      "cell_type": "markdown",
      "metadata": {
        "id": "uxoGqnc2BvuP"
      },
      "source": [
        "![Adder](https://github.com/Atcold/pytorch-Deep-Learning/blob/master/res/adder_circuit.png?raw=1)"
      ]
    },
    {
      "cell_type": "code",
      "metadata": {
        "id": "-oijyV1tBvuP"
      },
      "source": [
        "# Combine two half-adders and an OR into a (full) adder\n",
        "# ⬅️✏️\n",
        "\n",
        "def full_adder(x, Cin):\n",
        "  s1, c1 = half_adder(x)\n",
        "  s2, c2 = half_adder([s1, Cin])\n",
        "  return s2, or_neuron([c2, c1])"
      ],
      "execution_count": 95,
      "outputs": []
    },
    {
      "cell_type": "code",
      "metadata": {
        "colab": {
          "base_uri": "https://localhost:8080/"
        },
        "id": "I15sAYH35-fs",
        "outputId": "392b08fe-3cae-471e-c09b-c77c103a9e9c"
      },
      "source": [
        "print('Checking XOR neuron output')\r\n",
        "for my_x in my_x_collection:\r\n",
        "    print(my_x, f'{full_adder(my_x, 0)}')"
      ],
      "execution_count": 96,
      "outputs": [
        {
          "output_type": "stream",
          "text": [
            "Checking XOR neuron output\n",
            "[0, 0] (0, 0)\n",
            "[0, 1] (1, 0)\n",
            "[1, 0] (1, 0)\n",
            "[1, 1] (0, 1)\n"
          ],
          "name": "stdout"
        }
      ]
    },
    {
      "cell_type": "code",
      "metadata": {
        "colab": {
          "base_uri": "https://localhost:8080/"
        },
        "id": "BN-3ClrC6zOw",
        "outputId": "9a224632-b0cb-4b40-a1a8-02e01340345d"
      },
      "source": [
        "print('Checking XOR neuron output')\r\n",
        "for my_x in my_x_collection:\r\n",
        "    print(my_x, f'{full_adder(my_x, 1)}')"
      ],
      "execution_count": 94,
      "outputs": [
        {
          "output_type": "stream",
          "text": [
            "Checking XOR neuron output\n",
            "[0, 0] (1, 0)\n",
            "[0, 1] (0, 1)\n",
            "[1, 0] (0, 1)\n",
            "[1, 1] (1, 1)\n"
          ],
          "name": "stdout"
        }
      ]
    },
    {
      "cell_type": "markdown",
      "metadata": {
        "id": "xsVNSUAhBvuQ"
      },
      "source": [
        "---"
      ]
    }
  ]
}